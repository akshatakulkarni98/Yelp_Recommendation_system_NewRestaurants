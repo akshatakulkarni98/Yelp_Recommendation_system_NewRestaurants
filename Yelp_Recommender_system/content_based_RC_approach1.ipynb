{
 "cells": [
  {
   "cell_type": "code",
   "execution_count": 24,
   "metadata": {},
   "outputs": [],
   "source": [
    "import numpy as np\n",
    "import pandas as pd\n",
    "from sklearn.metrics.pairwise import pairwise_distances\n",
    "from sklearn.metrics.pairwise import cosine_similarity\n",
    "from sklearn.feature_extraction.text import CountVectorizer\n",
    "\n",
    "df_train = pd.read_csv('Data/restaurant_review.csv')\n",
    "df_train = df_train[df_train.user_id != '#NAME?']"
   ]
  },
  {
   "cell_type": "code",
   "execution_count": 25,
   "metadata": {
    "scrolled": false
   },
   "outputs": [
    {
     "data": {
      "text/html": [
       "<div>\n",
       "<style scoped>\n",
       "    .dataframe tbody tr th:only-of-type {\n",
       "        vertical-align: middle;\n",
       "    }\n",
       "\n",
       "    .dataframe tbody tr th {\n",
       "        vertical-align: top;\n",
       "    }\n",
       "\n",
       "    .dataframe thead th {\n",
       "        text-align: right;\n",
       "    }\n",
       "</style>\n",
       "<table border=\"1\" class=\"dataframe\">\n",
       "  <thead>\n",
       "    <tr style=\"text-align: right;\">\n",
       "      <th></th>\n",
       "      <th>business_id</th>\n",
       "      <th>name</th>\n",
       "      <th>user_id</th>\n",
       "      <th>review_rating</th>\n",
       "    </tr>\n",
       "  </thead>\n",
       "  <tbody>\n",
       "    <tr>\n",
       "      <th>2851</th>\n",
       "      <td>a6</td>\n",
       "      <td>res_6</td>\n",
       "      <td>NaN</td>\n",
       "      <td>NaN</td>\n",
       "    </tr>\n",
       "    <tr>\n",
       "      <th>2852</th>\n",
       "      <td>a7</td>\n",
       "      <td>res_7</td>\n",
       "      <td>NaN</td>\n",
       "      <td>NaN</td>\n",
       "    </tr>\n",
       "    <tr>\n",
       "      <th>2853</th>\n",
       "      <td>a8</td>\n",
       "      <td>res_8</td>\n",
       "      <td>NaN</td>\n",
       "      <td>NaN</td>\n",
       "    </tr>\n",
       "    <tr>\n",
       "      <th>2854</th>\n",
       "      <td>a9</td>\n",
       "      <td>res_9</td>\n",
       "      <td>NaN</td>\n",
       "      <td>NaN</td>\n",
       "    </tr>\n",
       "    <tr>\n",
       "      <th>2855</th>\n",
       "      <td>a10</td>\n",
       "      <td>res_10</td>\n",
       "      <td>NaN</td>\n",
       "      <td>NaN</td>\n",
       "    </tr>\n",
       "  </tbody>\n",
       "</table>\n",
       "</div>"
      ],
      "text/plain": [
       "     business_id    name user_id  review_rating\n",
       "2851          a6   res_6     NaN            NaN\n",
       "2852          a7   res_7     NaN            NaN\n",
       "2853          a8   res_8     NaN            NaN\n",
       "2854          a9   res_9     NaN            NaN\n",
       "2855         a10  res_10     NaN            NaN"
      ]
     },
     "execution_count": 25,
     "metadata": {},
     "output_type": "execute_result"
    }
   ],
   "source": [
    "#Preprocessed data\n",
    "df_bus_user = df_train[['business_id','name','user_id','review_rating']]\n",
    "df_bus_user.tail()"
   ]
  },
  {
   "cell_type": "code",
   "execution_count": 26,
   "metadata": {},
   "outputs": [
    {
     "data": {
      "text/html": [
       "<div>\n",
       "<style scoped>\n",
       "    .dataframe tbody tr th:only-of-type {\n",
       "        vertical-align: middle;\n",
       "    }\n",
       "\n",
       "    .dataframe tbody tr th {\n",
       "        vertical-align: top;\n",
       "    }\n",
       "\n",
       "    .dataframe thead th {\n",
       "        text-align: right;\n",
       "    }\n",
       "</style>\n",
       "<table border=\"1\" class=\"dataframe\">\n",
       "  <thead>\n",
       "    <tr style=\"text-align: right;\">\n",
       "      <th></th>\n",
       "      <th>name</th>\n",
       "      <th>categories</th>\n",
       "    </tr>\n",
       "    <tr>\n",
       "      <th>business_id</th>\n",
       "      <th></th>\n",
       "      <th></th>\n",
       "    </tr>\n",
       "  </thead>\n",
       "  <tbody>\n",
       "    <tr>\n",
       "      <th>a6</th>\n",
       "      <td>res_6</td>\n",
       "      <td>Asian Fusion,Thai,Sports Bars</td>\n",
       "    </tr>\n",
       "    <tr>\n",
       "      <th>a7</th>\n",
       "      <td>res_7</td>\n",
       "      <td>Pubs,German,Beer Bar</td>\n",
       "    </tr>\n",
       "    <tr>\n",
       "      <th>a8</th>\n",
       "      <td>res_8</td>\n",
       "      <td>Asian Fusion,Ramen,Noodles</td>\n",
       "    </tr>\n",
       "    <tr>\n",
       "      <th>a9</th>\n",
       "      <td>res_9</td>\n",
       "      <td>Indian,Himalayan/Nepalese,Vegan</td>\n",
       "    </tr>\n",
       "    <tr>\n",
       "      <th>a10</th>\n",
       "      <td>res_10</td>\n",
       "      <td>Sushi Bars,Japanese</td>\n",
       "    </tr>\n",
       "  </tbody>\n",
       "</table>\n",
       "</div>"
      ],
      "text/plain": [
       "               name                       categories\n",
       "business_id                                         \n",
       "a6            res_6    Asian Fusion,Thai,Sports Bars\n",
       "a7            res_7             Pubs,German,Beer Bar\n",
       "a8            res_8       Asian Fusion,Ramen,Noodles\n",
       "a9            res_9  Indian,Himalayan/Nepalese,Vegan\n",
       "a10          res_10              Sushi Bars,Japanese"
      ]
     },
     "execution_count": 26,
     "metadata": {},
     "output_type": "execute_result"
    }
   ],
   "source": [
    "#keep only required data\n",
    "df_idNameCat = df_train[['business_id','name','categories']]\n",
    "df_idNameCat.set_index('business_id', inplace = True)\n",
    "df_idNameCat = df_idNameCat.drop_duplicates()\n",
    "df_idNameCat.tail()"
   ]
  },
  {
   "cell_type": "code",
   "execution_count": 27,
   "metadata": {},
   "outputs": [],
   "source": [
    "#Consider all keyword as unigram\n",
    "df_idNameCat['categories'] = df_idNameCat['categories'].map(lambda x: x.lower().split(','))\n",
    "df_idNameCat['name'] = df_idNameCat['name'].map(lambda x: x.split(' '))"
   ]
  },
  {
   "cell_type": "code",
   "execution_count": 28,
   "metadata": {},
   "outputs": [],
   "source": [
    "#combine name and categories and store in keyword column\n",
    "df_idNameCat['keywords'] = ''\n",
    "columns = df_idNameCat.columns\n",
    "for index, row in df_idNameCat.iterrows():\n",
    "    words = ''\n",
    "    for col in columns:\n",
    "        words = words + ' '.join(row[col])+ ' '\n",
    "    row['keywords'] = words\n",
    "    \n",
    "df_idNameCat.drop(columns = [col for col in df_idNameCat.columns if col!= 'keywords'], inplace = True)"
   ]
  },
  {
   "cell_type": "code",
   "execution_count": 29,
   "metadata": {},
   "outputs": [
    {
     "data": {
      "text/html": [
       "<div>\n",
       "<style scoped>\n",
       "    .dataframe tbody tr th:only-of-type {\n",
       "        vertical-align: middle;\n",
       "    }\n",
       "\n",
       "    .dataframe tbody tr th {\n",
       "        vertical-align: top;\n",
       "    }\n",
       "\n",
       "    .dataframe thead th {\n",
       "        text-align: right;\n",
       "    }\n",
       "</style>\n",
       "<table border=\"1\" class=\"dataframe\">\n",
       "  <thead>\n",
       "    <tr style=\"text-align: right;\">\n",
       "      <th></th>\n",
       "      <th>keywords</th>\n",
       "    </tr>\n",
       "    <tr>\n",
       "      <th>business_id</th>\n",
       "      <th></th>\n",
       "    </tr>\n",
       "  </thead>\n",
       "  <tbody>\n",
       "    <tr>\n",
       "      <th>a6</th>\n",
       "      <td>res_6 asian fusion thai sports bars</td>\n",
       "    </tr>\n",
       "    <tr>\n",
       "      <th>a7</th>\n",
       "      <td>res_7 pubs german beer bar</td>\n",
       "    </tr>\n",
       "    <tr>\n",
       "      <th>a8</th>\n",
       "      <td>res_8 asian fusion ramen noodles</td>\n",
       "    </tr>\n",
       "    <tr>\n",
       "      <th>a9</th>\n",
       "      <td>res_9 indian himalayan/nepalese vegan</td>\n",
       "    </tr>\n",
       "    <tr>\n",
       "      <th>a10</th>\n",
       "      <td>res_10 sushi bars japanese</td>\n",
       "    </tr>\n",
       "  </tbody>\n",
       "</table>\n",
       "</div>"
      ],
      "text/plain": [
       "                                            keywords\n",
       "business_id                                         \n",
       "a6             res_6 asian fusion thai sports bars  \n",
       "a7                      res_7 pubs german beer bar  \n",
       "a8                res_8 asian fusion ramen noodles  \n",
       "a9           res_9 indian himalayan/nepalese vegan  \n",
       "a10                     res_10 sushi bars japanese  "
      ]
     },
     "execution_count": 29,
     "metadata": {},
     "output_type": "execute_result"
    }
   ],
   "source": [
    "df_idNameCat.tail()"
   ]
  },
  {
   "cell_type": "code",
   "execution_count": 30,
   "metadata": {},
   "outputs": [
    {
     "data": {
      "text/plain": [
       "0    f-m7-hyFzkf0HSEeQ2s-9A\n",
       "1    HHtpR0RslupSQ99GIIwW5A\n",
       "2    ZoZjbOYR-apY8XvommlNUA\n",
       "3    gqVl3RprESEqkIPeJH0yOg\n",
       "4    8kck3-K4zYKTJbJko0JlXQ\n",
       "Name: business_id, dtype: object"
      ]
     },
     "execution_count": 30,
     "metadata": {},
     "output_type": "execute_result"
    }
   ],
   "source": [
    "#Convert a keywords to a matrix of token counts\n",
    "count = CountVectorizer()\n",
    "count_matrix = count.fit_transform(df_idNameCat['keywords'])\n",
    "indices = pd.Series(df_idNameCat.index)\n",
    "indices[:5]"
   ]
  },
  {
   "cell_type": "code",
   "execution_count": 31,
   "metadata": {},
   "outputs": [
    {
     "data": {
      "text/plain": [
       "array([[1.        , 0.        , 0.20412415, ..., 0.        , 0.        ,\n",
       "        0.20412415],\n",
       "       [0.        , 1.        , 0.        , ..., 0.36514837, 0.        ,\n",
       "        0.        ],\n",
       "       [0.20412415, 0.        , 1.        , ..., 0.4472136 , 0.        ,\n",
       "        0.        ],\n",
       "       ...,\n",
       "       [0.        , 0.36514837, 0.4472136 , ..., 1.        , 0.        ,\n",
       "        0.        ],\n",
       "       [0.        , 0.        , 0.        , ..., 0.        , 1.        ,\n",
       "        0.        ],\n",
       "       [0.20412415, 0.        , 0.        , ..., 0.        , 0.        ,\n",
       "        1.        ]])"
      ]
     },
     "execution_count": 31,
     "metadata": {},
     "output_type": "execute_result"
    }
   ],
   "source": [
    "#Calculating similarity using cosine similarity\n",
    "cosine_sim = cosine_similarity(count_matrix, count_matrix)\n",
    "cosine_sim"
   ]
  },
  {
   "cell_type": "code",
   "execution_count": 32,
   "metadata": {},
   "outputs": [],
   "source": [
    "# function that takes in restaurant as input and returns the top 10 recommended restaurants\n",
    "def Similar_restaurants(res_id, cosine_sim = cosine_sim):\n",
    "    \n",
    "    recommended_res = []\n",
    "    \n",
    "    # gettin the index of the restaurant that matches restaurant\n",
    "    idx = indices[indices == res_id].index[0]\n",
    "\n",
    "    # creating a Series with the similarity scores in descending order\n",
    "    score_series = pd.Series(cosine_sim[idx]).sort_values(ascending = False)\n",
    "\n",
    "    # getting the indexes of the 10 most similar restaurants\n",
    "    top_10_indexes = list(score_series.iloc[1:11].index)\n",
    "    \n",
    "    # populating the list with the restaurant of the best 10 matching restaurants\n",
    "    for i in top_10_indexes:\n",
    "        recommended_res.append(list(df_idNameCat.index)[i])\n",
    "        \n",
    "    return recommended_res"
   ]
  },
  {
   "cell_type": "code",
   "execution_count": 33,
   "metadata": {},
   "outputs": [
    {
     "data": {
      "text/plain": [
       "['2FR395iJImCphQNGWubUtw',\n",
       " 'aZ_YuxbdMB_ViExPkiXTbg',\n",
       " 'TvPheRa8TfhyET_vsN2uKQ',\n",
       " 'METk5cHv8bBJGxkOosw2fw',\n",
       " 's10mApVcsXi6GHxOuVHEGw',\n",
       " 'TdSMgDvprOcvMurDHFZdZw',\n",
       " 'jON2lBVp77IT5l5AcCMjqw',\n",
       " 'cjfJOMF6hpE7bX0ESWdAEg',\n",
       " 'rMuLW1qVB-deU5NStYerWA',\n",
       " '8rc-DM2AqXx46X2hZq7W1A']"
      ]
     },
     "execution_count": 33,
     "metadata": {},
     "output_type": "execute_result"
    }
   ],
   "source": [
    "rec_bus_list = Similar_restaurants('a6')\n",
    "rec_bus_list"
   ]
  },
  {
   "cell_type": "code",
   "execution_count": 34,
   "metadata": {},
   "outputs": [],
   "source": [
    "# For each similar restaurants, find all users from df_bus_user\n",
    "\n",
    "def find_users_who_may_like_similar_business(df_bus_user, rec_bus_list):\n",
    "    users_who_may_like = set() # set\n",
    "    for each_recommendation in rec_bus_list:\n",
    "        for index, row in df_bus_user.iterrows():\n",
    "            if row[0] == each_recommendation and row[3] > 3:\n",
    "                users_who_may_like.add(row[2])\n",
    "    return users_who_may_like"
   ]
  },
  {
   "cell_type": "code",
   "execution_count": 35,
   "metadata": {},
   "outputs": [],
   "source": [
    "high_star_rating_users_who_may_like = find_users_who_may_like_similar_business(df_bus_user, rec_bus_list)"
   ]
  },
  {
   "cell_type": "code",
   "execution_count": 37,
   "metadata": {},
   "outputs": [
    {
     "data": {
      "text/plain": [
       "{'1gdZQ47zus0DsW-F9hdGmQ',\n",
       " '3hSGiWeU55-t3ef_dsIqkw',\n",
       " 'C3YcMYonAvBKZAD2uUnfig',\n",
       " 'Lf1vReyrKC0fI63AWiP23g',\n",
       " 'LljZPVdvobWxgbAaXDwM6Q',\n",
       " 'MOgz0_VkT9AOJFQ5r33Y7A',\n",
       " 'PrkYAAWHpcNLn0X1sVP2Ig',\n",
       " 'RG91_Obi7yhHKAs5tUYgDQ',\n",
       " 'ReoITf9K798Y_1aat7zh-Q',\n",
       " 'SgUv6nrd1uKtDvppvOmP-A',\n",
       " 'WV7LEO40IMjWBrKXzGMlmQ',\n",
       " 'ZfUM2xZQcq2ymMyxnh4skg',\n",
       " 'eIa4QJXp5ZNmuFORnuPvDA',\n",
       " 'jCaKs16lbEjuc9n02GTrsQ',\n",
       " 'pYLh_NnbD0kY8Gxa6R8egA',\n",
       " 'rrEP6uLkw5QPCcC8JNSqxw',\n",
       " 'uQCqaGoFCIbZdZgtLmNWnw',\n",
       " 'x4CKCX971-iuoKFgfDUh1w',\n",
       " 'xkoRni5Ubm-Ic9Bj6uDuiQ',\n",
       " 'yZM8bO0dbhffVp6RCTFN5w',\n",
       " 'yZY3qBVGRlS-m-iEp-Zwdw'}"
      ]
     },
     "execution_count": 37,
     "metadata": {},
     "output_type": "execute_result"
    }
   ],
   "source": [
    "# List of users who might like res_id (These users will be recommended with res_id)\n",
    "high_star_rating_users_who_may_like"
   ]
  },
  {
   "cell_type": "code",
   "execution_count": null,
   "metadata": {},
   "outputs": [],
   "source": []
  }
 ],
 "metadata": {
  "kernelspec": {
   "display_name": "Python 3",
   "language": "python",
   "name": "python3"
  },
  "language_info": {
   "codemirror_mode": {
    "name": "ipython",
    "version": 3
   },
   "file_extension": ".py",
   "mimetype": "text/x-python",
   "name": "python",
   "nbconvert_exporter": "python",
   "pygments_lexer": "ipython3",
   "version": "3.7.3"
  }
 },
 "nbformat": 4,
 "nbformat_minor": 2
}
