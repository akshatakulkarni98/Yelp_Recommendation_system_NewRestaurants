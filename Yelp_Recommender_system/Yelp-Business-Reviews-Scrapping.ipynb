{
 "cells": [
  {
   "cell_type": "code",
   "execution_count": 3,
   "metadata": {},
   "outputs": [
    {
     "name": "stdout",
     "output_type": "stream",
     "text": [
      "3.7.3 (default, Mar 27 2019, 16:54:48) \n",
      "[Clang 4.0.1 (tags/RELEASE_401/final)]\n"
     ]
    }
   ],
   "source": [
    "import sys\n",
    "print (sys.version)\n",
    "client_id = \"4h-5kJ2Iz88OGBpTkesDfg\"\n",
    "api_key = \"0UrIMvMtSDQCMyDjvF1RMYvfNEEGeyZ5PkT0EFV6DuSn4zJAjTHafWLiboKkpSYu9hxH9a9GhcTFttRsH6hBYj-5aZTLT_5Hi0tf9Zlc3JbsPZYebke8mMlPT7QqXXYx\"\n"
   ]
  },
  {
   "cell_type": "code",
   "execution_count": 16,
   "metadata": {},
   "outputs": [
    {
     "name": "stdout",
     "output_type": "stream",
     "text": [
      "REQUEST https://api.yelp.com/v3/businesses/uYHaNptLzDLoV_JZ_MuzUA\n",
      "\n",
      "{'id': 'uYHaNptLzDLoV_JZ_MuzUA', 'alias': 'motel-one-edinburgh', 'name': 'Motel One', 'image_url': 'https://s3-media2.fl.yelpcdn.com/bphoto/EKpZ2LrTZhq6Zunn2XMr1w/o.jpg', 'is_claimed': False, 'is_closed': False, 'url': 'https://www.yelp.com/biz/motel-one-edinburgh?adjust_creative=4h-5kJ2Iz88OGBpTkesDfg&utm_campaign=yelp_api_v3&utm_medium=api_v3_business_lookup&utm_source=4h-5kJ2Iz88OGBpTkesDfg', 'phone': '', 'display_phone': '', 'review_count': 20, 'categories': [{'alias': 'hotels', 'title': 'Hotels'}], 'rating': 4.0, 'location': {'address1': 'Market Street', 'address2': '', 'address3': '', 'city': 'Edinburgh', 'zip_code': 'EH1', 'country': 'GB', 'state': 'EDH', 'display_address': ['Market Street', 'Edinburgh EH1', 'United Kingdom'], 'cross_streets': ''}, 'coordinates': {'latitude': 55.9508705, 'longitude': -3.1913099}, 'photos': ['https://s3-media2.fl.yelpcdn.com/bphoto/EKpZ2LrTZhq6Zunn2XMr1w/o.jpg', 'https://s3-media3.fl.yelpcdn.com/bphoto/B2-ROr0D6YMYnE9GdXVo3w/o.jpg', 'https://s3-media2.fl.yelpcdn.com/bphoto/D06CabcjTSjXFmnz4nN-8Q/o.jpg'], 'price': '££', 'transactions': []}\n"
     ]
    }
   ],
   "source": [
    "import requests\n",
    "\n",
    "## Example for /businesses/{id}\n",
    "## Get business details of a given business_id\n",
    "## https://www.yelp.com/developers/documentation/v3/business\n",
    "\n",
    "BASE_BUSINESS_URL = \"https://api.yelp.com/v3/businesses/\"\n",
    "business_ids = ['uYHaNptLzDLoV_JZ_MuzUA']\n",
    "\n",
    "for business_id in business_ids:\n",
    "    response = requests.get(\n",
    "        'https://api.yelp.com/v3/businesses/{}'.format(business_id),\n",
    "    headers={'Authorization': 'Bearer {}'.format(api_key)})\n",
    "    print (\"REQUEST \" + str(response.request.url) + \"\\n\")\n",
    "    json_response = response.json()\n",
    "    print (json_response)"
   ]
  },
  {
   "cell_type": "code",
   "execution_count": 98,
   "metadata": {},
   "outputs": [
    {
     "name": "stdout",
     "output_type": "stream",
     "text": [
      "REQUEST https://api.yelp.com/v3/businesses/search?term=restaurants&location=San+Francisco&radius=40000&limit=50&offset=0\n",
      "\n",
      "REQUEST https://api.yelp.com/v3/businesses/search?term=restaurants&location=San+Francisco&radius=40000&limit=50&offset=51\n",
      "\n",
      "REQUEST https://api.yelp.com/v3/businesses/search?term=restaurants&location=San+Francisco&radius=40000&limit=50&offset=102\n",
      "\n",
      "REQUEST https://api.yelp.com/v3/businesses/search?term=restaurants&location=San+Francisco&radius=40000&limit=50&offset=153\n",
      "\n",
      "REQUEST https://api.yelp.com/v3/businesses/search?term=restaurants&location=San+Francisco&radius=40000&limit=50&offset=204\n",
      "\n",
      "REQUEST https://api.yelp.com/v3/businesses/search?term=restaurants&location=San+Francisco&radius=40000&limit=50&offset=255\n",
      "\n",
      "REQUEST https://api.yelp.com/v3/businesses/search?term=restaurants&location=San+Francisco&radius=40000&limit=50&offset=306\n",
      "\n",
      "REQUEST https://api.yelp.com/v3/businesses/search?term=restaurants&location=San+Francisco&radius=40000&limit=50&offset=357\n",
      "\n",
      "REQUEST https://api.yelp.com/v3/businesses/search?term=restaurants&location=San+Francisco&radius=40000&limit=50&offset=408\n",
      "\n",
      "REQUEST https://api.yelp.com/v3/businesses/search?term=restaurants&location=San+Francisco&radius=40000&limit=50&offset=459\n",
      "\n",
      "REQUEST https://api.yelp.com/v3/businesses/search?term=restaurants&location=San+Francisco&radius=40000&limit=50&offset=510\n",
      "\n",
      "REQUEST https://api.yelp.com/v3/businesses/search?term=restaurants&location=San+Francisco&radius=40000&limit=50&offset=561\n",
      "\n",
      "REQUEST https://api.yelp.com/v3/businesses/search?term=restaurants&location=San+Francisco&radius=40000&limit=50&offset=612\n",
      "\n",
      "REQUEST https://api.yelp.com/v3/businesses/search?term=restaurants&location=San+Francisco&radius=40000&limit=50&offset=663\n",
      "\n",
      "REQUEST https://api.yelp.com/v3/businesses/search?term=restaurants&location=San+Francisco&radius=40000&limit=50&offset=714\n",
      "\n",
      "REQUEST https://api.yelp.com/v3/businesses/search?term=restaurants&location=San+Francisco&radius=40000&limit=50&offset=765\n",
      "\n",
      "REQUEST https://api.yelp.com/v3/businesses/search?term=restaurants&location=San+Francisco&radius=40000&limit=50&offset=816\n",
      "\n",
      "REQUEST https://api.yelp.com/v3/businesses/search?term=restaurants&location=San+Francisco&radius=40000&limit=50&offset=867\n",
      "\n",
      "REQUEST https://api.yelp.com/v3/businesses/search?term=restaurants&location=San+Francisco&radius=40000&limit=50&offset=918\n",
      "\n",
      "REQUEST https://api.yelp.com/v3/businesses/search?term=restaurants&location=San+Francisco&radius=40000&limit=50&offset=969\n",
      "\n",
      "Total queries 950\n"
     ]
    }
   ],
   "source": [
    "import requests\n",
    "import json\n",
    "\n",
    "## Example for /businesses/search\n",
    "## Getting only business/search results for a given location\n",
    "## https://www.yelp.com/developers/documentation/v3/business_search\n",
    "\n",
    "BASE_BUSINESS_URL = \"https://api.yelp.com/v3/businesses/search\"\n",
    "term = 'restaurants'\n",
    "location = 'San Francisco'\n",
    "radius = 40000\n",
    "limit = 50\n",
    "total_count = 0\n",
    "offset = 0\n",
    "\n",
    "while(offset<1001):\n",
    "    response = requests.get(\n",
    "    'https://api.yelp.com/v3/businesses/search',\n",
    "    headers={'Authorization': 'Bearer {}'.format(api_key)},\n",
    "    params={'term':term, 'location':location, 'radius':radius, 'limit':limit, 'offset': offset})\n",
    "    print (\"REQUEST \" + str(response.request.url) + \"\\n\")\n",
    "    json_response = json.loads(response.text)\n",
    "    offset = offset+51\n",
    "    #print (json_response)\n",
    "    result = json_response.get('businesses','')\n",
    "    total_count = total_count + len(result)\n",
    "    with open('/Users/akshatakulkarni/LargeScaleProject/individual/SF&SJC/json/business_search.json'.format(offset), 'a') as outfile:\n",
    "        for r in result:\n",
    "            json_string = json.dumps(r)\n",
    "            outfile.write(json_string+\"\\n\")\n",
    "\n",
    "outfile.close()\n",
    "print (\"Total queries \" + str(total_count))"
   ]
  },
  {
   "cell_type": "code",
   "execution_count": 99,
   "metadata": {},
   "outputs": [
    {
     "name": "stdout",
     "output_type": "stream",
     "text": [
      "950\n"
     ]
    }
   ],
   "source": [
    "# Read the business_search.json to get all the unique business_id's\n",
    "\n",
    "business_id_set = set()\n",
    "with open('/Users/akshatakulkarni/LargeScaleProject/individual/SF&SJC/json/business_search.json', 'r') as infile:\n",
    "    for line in infile:\n",
    "        json_obj = json.loads(line)\n",
    "        business_id_set.add(json_obj['id'])\n",
    "\n",
    "print (len(business_id_set))"
   ]
  },
  {
   "cell_type": "code",
   "execution_count": 133,
   "metadata": {
    "scrolled": false
   },
   "outputs": [
    {
     "name": "stdout",
     "output_type": "stream",
     "text": [
      "REQUEST https://api.yelp.com/v3/businesses/search?term=restaurants&location=San+Francisco&radius=40000&limit=50&offset=0\n",
      "\n",
      "REQUEST https://api.yelp.com/v3/businesses/search?term=restaurants&location=San+Francisco&radius=40000&limit=50&offset=51\n",
      "\n",
      "REQUEST https://api.yelp.com/v3/businesses/search?term=restaurants&location=San+Francisco&radius=40000&limit=50&offset=102\n",
      "\n",
      "REQUEST https://api.yelp.com/v3/businesses/search?term=restaurants&location=San+Francisco&radius=40000&limit=50&offset=153\n",
      "\n",
      "REQUEST https://api.yelp.com/v3/businesses/search?term=restaurants&location=San+Francisco&radius=40000&limit=50&offset=204\n",
      "\n",
      "REQUEST https://api.yelp.com/v3/businesses/search?term=restaurants&location=San+Francisco&radius=40000&limit=50&offset=255\n",
      "\n",
      "REQUEST https://api.yelp.com/v3/businesses/search?term=restaurants&location=San+Francisco&radius=40000&limit=50&offset=306\n",
      "\n",
      "REQUEST https://api.yelp.com/v3/businesses/search?term=restaurants&location=San+Francisco&radius=40000&limit=50&offset=357\n",
      "\n",
      "REQUEST https://api.yelp.com/v3/businesses/search?term=restaurants&location=San+Francisco&radius=40000&limit=50&offset=408\n",
      "\n",
      "REQUEST https://api.yelp.com/v3/businesses/search?term=restaurants&location=San+Francisco&radius=40000&limit=50&offset=459\n",
      "\n",
      "REQUEST https://api.yelp.com/v3/businesses/search?term=restaurants&location=San+Francisco&radius=40000&limit=50&offset=510\n",
      "\n",
      "REQUEST https://api.yelp.com/v3/businesses/search?term=restaurants&location=San+Francisco&radius=40000&limit=50&offset=561\n",
      "\n",
      "REQUEST https://api.yelp.com/v3/businesses/search?term=restaurants&location=San+Francisco&radius=40000&limit=50&offset=612\n",
      "\n",
      "REQUEST https://api.yelp.com/v3/businesses/search?term=restaurants&location=San+Francisco&radius=40000&limit=50&offset=663\n",
      "\n",
      "REQUEST https://api.yelp.com/v3/businesses/search?term=restaurants&location=San+Francisco&radius=40000&limit=50&offset=714\n",
      "\n",
      "REQUEST https://api.yelp.com/v3/businesses/search?term=restaurants&location=San+Francisco&radius=40000&limit=50&offset=765\n",
      "\n",
      "REQUEST https://api.yelp.com/v3/businesses/search?term=restaurants&location=San+Francisco&radius=40000&limit=50&offset=816\n",
      "\n",
      "REQUEST https://api.yelp.com/v3/businesses/search?term=restaurants&location=San+Francisco&radius=40000&limit=50&offset=867\n",
      "\n",
      "REQUEST https://api.yelp.com/v3/businesses/search?term=restaurants&location=San+Francisco&radius=40000&limit=50&offset=918\n",
      "\n",
      "REQUEST https://api.yelp.com/v3/businesses/search?term=restaurants&location=San+Francisco&radius=40000&limit=50&offset=969\n",
      "\n",
      "REQUEST https://api.yelp.com/v3/businesses/search?term=restaurants&location=San+Francisco&radius=40000&limit=50&offset=1020\n",
      "\n",
      "Total queries 950\n"
     ]
    }
   ],
   "source": [
    "import requests\n",
    "import json\n",
    "\n",
    "## Merging business and reviews into one JSON for San Francisco\n",
    "## https://www.yelp.com/developers/documentation/v3/business_search and \n",
    "## https://www.yelp.com/developers/documentation/h/business_reviews\n",
    "\n",
    "BASE_BUSINESS_URL = \"https://api.yelp.com/v3/businesses/search\"\n",
    "term = 'restaurants'\n",
    "location = 'San Francisco'\n",
    "radius = 40000\n",
    "limit = 50\n",
    "total_count = 0\n",
    "offset = 0\n",
    "\n",
    "while(offset<1050):\n",
    "    response = requests.get(\n",
    "    'https://api.yelp.com/v3/businesses/search',\n",
    "    headers={'Authorization': 'Bearer {}'.format(api_key)},\n",
    "    params={'term':term, 'location':location, 'radius':radius, 'limit':limit, 'offset': offset})\n",
    "    \n",
    "    offset = offset+51\n",
    "    \n",
    "    print (\"REQUEST \" + str(response.request.url) + \"\\n\")\n",
    "    json_response = json.loads(response.text)\n",
    "    # print (json_response)\n",
    "    businesses_result = json_response.get('businesses','')\n",
    "    total_count = total_count + len(businesses_result)\n",
    "    for restaurant in businesses_result:\n",
    "        # print (\"business_id: \" + restaurant['id'])\n",
    "        # print (\"business_id: \" + str(restaurant['categories']))\n",
    "        response = requests.get(\n",
    "            'https://api.yelp.com/v3/businesses/{}/reviews'.format(restaurant['id']),\n",
    "        headers={'Authorization': 'Bearer {}'.format(api_key)})\n",
    "        json_review_response = json.loads(response.text)\n",
    "        #print (json_review_response)\n",
    "        restaurant['reviews_list']=json_review_response['reviews']\n",
    "\n",
    "    with open('/Users/akshatakulkarni/LargeScaleProject/individual/SF&SJC/json/business_search_and_reviews.json'.format(offset), 'a') as outfile:\n",
    "        for r in businesses_result:\n",
    "            json_string = json.dumps(r)\n",
    "            outfile.write(json_string+\"\\n\")\n",
    "\n",
    "outfile.close()\n",
    "print (\"Total queries \" + str(total_count))"
   ]
  },
  {
   "cell_type": "code",
   "execution_count": 134,
   "metadata": {},
   "outputs": [
    {
     "name": "stdout",
     "output_type": "stream",
     "text": [
      "950\n",
      "2846\n"
     ]
    }
   ],
   "source": [
    "## Verify Reviews count for San Francisco\n",
    "\n",
    "count = 0\n",
    "review_count = 0\n",
    "\n",
    "with open('/Users/akshatakulkarni/LargeScaleProject/individual/SF&SJC/json/business_search_and_reviews.json'.format(offset), 'r') as infile:\n",
    "    for line in infile:\n",
    "        count=count+1\n",
    "        json_obj = json.loads(line)\n",
    "        review_count = len(json_obj['reviews_list']) + review_count\n",
    "        \n",
    "print (count)   \n",
    "print (review_count)\n",
    "        "
   ]
  },
  {
   "cell_type": "code",
   "execution_count": null,
   "metadata": {},
   "outputs": [
    {
     "name": "stdout",
     "output_type": "stream",
     "text": [
      "REQUEST https://api.yelp.com/v3/businesses/search?term=restaurants&location=San+Jose&radius=40000&limit=50&offset=0\n",
      "\n",
      "REQUEST https://api.yelp.com/v3/businesses/search?term=restaurants&location=San+Jose&radius=40000&limit=50&offset=51\n",
      "\n",
      "REQUEST https://api.yelp.com/v3/businesses/search?term=restaurants&location=San+Jose&radius=40000&limit=50&offset=102\n",
      "\n",
      "REQUEST https://api.yelp.com/v3/businesses/search?term=restaurants&location=San+Jose&radius=40000&limit=50&offset=153\n",
      "\n",
      "REQUEST https://api.yelp.com/v3/businesses/search?term=restaurants&location=San+Jose&radius=40000&limit=50&offset=204\n",
      "\n",
      "REQUEST https://api.yelp.com/v3/businesses/search?term=restaurants&location=San+Jose&radius=40000&limit=50&offset=255\n",
      "\n",
      "REQUEST https://api.yelp.com/v3/businesses/search?term=restaurants&location=San+Jose&radius=40000&limit=50&offset=306\n",
      "\n",
      "REQUEST https://api.yelp.com/v3/businesses/search?term=restaurants&location=San+Jose&radius=40000&limit=50&offset=357\n",
      "\n",
      "REQUEST https://api.yelp.com/v3/businesses/search?term=restaurants&location=San+Jose&radius=40000&limit=50&offset=408\n",
      "\n",
      "REQUEST https://api.yelp.com/v3/businesses/search?term=restaurants&location=San+Jose&radius=40000&limit=50&offset=459\n",
      "\n",
      "REQUEST https://api.yelp.com/v3/businesses/search?term=restaurants&location=San+Jose&radius=40000&limit=50&offset=510\n",
      "\n",
      "REQUEST https://api.yelp.com/v3/businesses/search?term=restaurants&location=San+Jose&radius=40000&limit=50&offset=561\n",
      "\n",
      "REQUEST https://api.yelp.com/v3/businesses/search?term=restaurants&location=San+Jose&radius=40000&limit=50&offset=612\n",
      "\n",
      "REQUEST https://api.yelp.com/v3/businesses/search?term=restaurants&location=San+Jose&radius=40000&limit=50&offset=663\n",
      "\n",
      "REQUEST https://api.yelp.com/v3/businesses/search?term=restaurants&location=San+Jose&radius=40000&limit=50&offset=714\n",
      "\n",
      "REQUEST https://api.yelp.com/v3/businesses/search?term=restaurants&location=San+Jose&radius=40000&limit=50&offset=765\n",
      "\n",
      "REQUEST https://api.yelp.com/v3/businesses/search?term=restaurants&location=San+Jose&radius=40000&limit=50&offset=816\n",
      "\n",
      "REQUEST https://api.yelp.com/v3/businesses/search?term=restaurants&location=San+Jose&radius=40000&limit=50&offset=867\n",
      "\n",
      "REQUEST https://api.yelp.com/v3/businesses/search?term=restaurants&location=San+Jose&radius=40000&limit=50&offset=918\n",
      "\n"
     ]
    }
   ],
   "source": [
    "import requests\n",
    "import json\n",
    "\n",
    "## Merging business and reviews into one JSON for San Jose\n",
    "## https://www.yelp.com/developers/documentation/v3/business_search and \n",
    "## https://www.yelp.com/developers/documentation/h/business_reviews\n",
    "\n",
    "BASE_BUSINESS_URL = \"https://api.yelp.com/v3/businesses/search\"\n",
    "term = 'restaurants'\n",
    "location = 'San Jose'\n",
    "radius = 40000\n",
    "limit = 50\n",
    "total_count = 0\n",
    "offset = 0\n",
    "\n",
    "while(offset<1050):\n",
    "    response = requests.get(\n",
    "    'https://api.yelp.com/v3/businesses/search',\n",
    "    headers={'Authorization': 'Bearer {}'.format(api_key)},\n",
    "    params={'term':term, 'location':location, 'radius':radius, 'limit':limit, 'offset': offset})\n",
    "    \n",
    "    offset = offset+51\n",
    "    \n",
    "    print (\"REQUEST \" + str(response.request.url) + \"\\n\")\n",
    "    json_response = json.loads(response.text)\n",
    "    # print (json_response)\n",
    "    businesses_result = json_response.get('businesses','')\n",
    "    total_count = total_count + len(businesses_result)\n",
    "    for restaurant in businesses_result:\n",
    "        # print (\"business_id: \" + restaurant['id'])\n",
    "        # print (\"business_id: \" + str(restaurant['categories']))\n",
    "        response = requests.get(\n",
    "            'https://api.yelp.com/v3/businesses/{}/reviews'.format(restaurant['id']),\n",
    "        headers={'Authorization': 'Bearer {}'.format(api_key)})\n",
    "        json_review_response = json.loads(response.text)\n",
    "        #print (json_review_response)\n",
    "        restaurant['reviews_list']=json_review_response['reviews']\n",
    "\n",
    "    with open('/Users/akshatakulkarni/LargeScaleProject/individual/SF&SJC/json/business_search_and_reviews_san_jose.json'.format(offset), 'a') as outfile:\n",
    "        for r in businesses_result:\n",
    "            json_string = json.dumps(r)\n",
    "            outfile.write(json_string+\"\\n\")\n",
    "\n",
    "outfile.close()\n",
    "print (\"Total queries \" + str(total_count))"
   ]
  },
  {
   "cell_type": "code",
   "execution_count": 123,
   "metadata": {},
   "outputs": [
    {
     "name": "stdout",
     "output_type": "stream",
     "text": [
      "REQUEST https://api.yelp.com/v3/businesses/ZiTRspDPY9T_kh4tQDwDMQ/reviews\n",
      "\n",
      "{'reviews': [{'id': 'fkhlzFvpj7tIiVFGSaugog', 'url': 'https://www.yelp.com/biz/pacific-cafe-san-francisco?adjust_creative=4h-5kJ2Iz88OGBpTkesDfg&hrid=fkhlzFvpj7tIiVFGSaugog&utm_campaign=yelp_api_v3&utm_medium=api_v3_business_reviews&utm_source=4h-5kJ2Iz88OGBpTkesDfg', 'text': \"A delicious dinner, again! . If it wasn't for the long wait time, I would come here more often. Thank goodness for the free wine while waiting!\\n\\nThe table...\", 'rating': 5, 'time_created': '2019-05-14 12:36:03', 'user': {'id': '4a20gIUmDwpZLtvCfLRrpQ', 'profile_url': 'https://www.yelp.com/user_details?userid=4a20gIUmDwpZLtvCfLRrpQ', 'image_url': 'https://s3-media3.fl.yelpcdn.com/photo/J1pv_ALxdHxLBg_uJhFtvA/o.jpg', 'name': 'Lena L.'}}, {'id': 'tdRS-LXlLHDiWfMLEgb3QA', 'url': 'https://www.yelp.com/biz/pacific-cafe-san-francisco?adjust_creative=4h-5kJ2Iz88OGBpTkesDfg&hrid=tdRS-LXlLHDiWfMLEgb3QA&utm_campaign=yelp_api_v3&utm_medium=api_v3_business_reviews&utm_source=4h-5kJ2Iz88OGBpTkesDfg', 'text': \"Great service, great food and great experiences. \\nFree red & white wine while you wait!... yes, please!\\nCan't go wrong with anything you order on the menu....\", 'rating': 5, 'time_created': '2019-04-18 17:34:41', 'user': {'id': 'CJ8fox4EiGv575KsYAo92A', 'profile_url': 'https://www.yelp.com/user_details?userid=CJ8fox4EiGv575KsYAo92A', 'image_url': 'https://s3-media2.fl.yelpcdn.com/photo/8RoVca7XMj_UthHeFnb18Q/o.jpg', 'name': 'becca p.'}}, {'id': 'unU4AowH-v5gJZvlEzGvVA', 'url': 'https://www.yelp.com/biz/pacific-cafe-san-francisco?adjust_creative=4h-5kJ2Iz88OGBpTkesDfg&hrid=unU4AowH-v5gJZvlEzGvVA&utm_campaign=yelp_api_v3&utm_medium=api_v3_business_reviews&utm_source=4h-5kJ2Iz88OGBpTkesDfg', 'text': 'We used to go to the Pacific Cafe in Kentfield but they closed a few years back so we wanted to try this location. We arrived right at 5:00, as we have...', 'rating': 4, 'time_created': '2019-04-11 19:25:31', 'user': {'id': 'IiSGfpMvWIoqweGqEsNPOQ', 'profile_url': 'https://www.yelp.com/user_details?userid=IiSGfpMvWIoqweGqEsNPOQ', 'image_url': 'https://s3-media3.fl.yelpcdn.com/photo/LZc96tQQXlkWje5Xk6jhIg/o.jpg', 'name': 'Mary B.'}}], 'total': 723, 'possible_languages': ['cs', 'en', 'ja', 'es']}\n"
     ]
    }
   ],
   "source": [
    "import requests\n",
    "\n",
    "## Example to get a review for a given business_id\n",
    "## https://www.yelp.com/developers/documentation/h/business_reviews\n",
    "\n",
    "BASE_BUSINESS_URL = \"https://api.yelp.com/v3/businesses/{id}/reviews\"\n",
    "\n",
    "business_list = list(business_id_set)\n",
    "\n",
    "for business_id in business_list[0:1]:\n",
    "    response = requests.get(\n",
    "        'https://api.yelp.com/v3/businesses/{}/reviews'.format(business_id),\n",
    "    headers={'Authorization': 'Bearer {}'.format(api_key)})\n",
    "    print (\"REQUEST \" + str(response.request.url) + \"\\n\")\n",
    "    json_response = json.loads(response.text)\n",
    "    print (json_response)"
   ]
  }
 ],
 "metadata": {
  "kernelspec": {
   "display_name": "Python 3",
   "language": "python",
   "name": "python3"
  },
  "language_info": {
   "codemirror_mode": {
    "name": "ipython",
    "version": 3
   },
   "file_extension": ".py",
   "mimetype": "text/x-python",
   "name": "python",
   "nbconvert_exporter": "python",
   "pygments_lexer": "ipython3",
   "version": "3.7.3"
  }
 },
 "nbformat": 4,
 "nbformat_minor": 2
}
